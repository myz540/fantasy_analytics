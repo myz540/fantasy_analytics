{
 "cells": [
  {
   "cell_type": "markdown",
   "metadata": {},
   "source": [
    "# CS544 Foundations of Analytics\n",
    "# Professor Suresh Kalathur\n",
    "# Final Project - Mike Zhong"
   ]
  },
  {
   "cell_type": "code",
   "execution_count": 2,
   "metadata": {
    "collapsed": true
   },
   "outputs": [],
   "source": [
    "from bs4 import BeautifulSoup\n",
    "import requests\n",
    "import os\n",
    "import lxml\n",
    "import re"
   ]
  },
  {
   "cell_type": "code",
   "execution_count": 3,
   "metadata": {
    "collapsed": true
   },
   "outputs": [],
   "source": [
    "__author__ = \"Mike Zhong\""
   ]
  },
  {
   "cell_type": "markdown",
   "metadata": {},
   "source": [
    "## Part 1) \n",
    "## This notebook will walk through the steps I took to scrape a single table from an html page, the methods used here will be converted into a function and looped over all 16 weeks of the NFL season to generate 16 .csv files."
   ]
  },
  {
   "cell_type": "code",
   "execution_count": 4,
   "metadata": {},
   "outputs": [
    {
     "name": "stdout",
     "output_type": "stream",
     "text": [
      "C:\\Users\\mike.zhong\\Dropbox\\dev\\fantasy_analytics\n"
     ]
    }
   ],
   "source": [
    "print(os.getcwd())\n",
    "wd = os.getcwd()"
   ]
  },
  {
   "cell_type": "code",
   "execution_count": 5,
   "metadata": {},
   "outputs": [
    {
     "name": "stdout",
     "output_type": "stream",
     "text": [
      "<class 'requests.models.Response'>\n",
      "<Response [200]>\n",
      "<!DOCTYPE html>\n",
      "<html lang=\"en\">\n",
      "<head>\n",
      "<meta charset=\"utf-8\" />\n",
      "<meta http-equiv=\"X-UA-Compatible\" content=\"IE=edge\" />\n",
      "<meta name=\"viewport\" content=\"initial-scale=1.0, width=device-width\" />\n",
      "<title>2016 Fantasy Football Statistics | The Football Database</title>\n",
      "<meta name=\"description\" content=\"View week 1 QB,RB,WR,TE fantasy football stats and statistics for the 2016 NFL season. Included are \n"
     ]
    }
   ],
   "source": [
    "my_url = \"http://www.footballdb.com/fantasy-football/index.html?pos=QB%2CRB%2CWR%2CTE&yr=2016&wk=1&rules=1\"\n",
    "\n",
    "html_page = requests.get(my_url)\n",
    "\n",
    "if html_page.status_code != 200:\n",
    "    print(\"Non-200 response code returned, exiting...\")\n",
    "    exit(1)\n",
    "\n",
    "print(type(html_page))\n",
    "print(html_page)\n",
    "print(html_page.text[:400])\n",
    "\n",
    "with open(wd + \"/html/sample_html.html\", 'w+') as fp:\n",
    "    fp.write(html_page.text)"
   ]
  },
  {
   "cell_type": "code",
   "execution_count": 6,
   "metadata": {},
   "outputs": [
    {
     "name": "stdout",
     "output_type": "stream",
     "text": [
      "<class 'bs4.BeautifulSoup'>\n",
      "7 <class 'bs4.element.ResultSet'>\n"
     ]
    }
   ],
   "source": [
    "soup = BeautifulSoup(html_page.text, 'lxml')\n",
    "\n",
    "print(type(soup))\n",
    "\n",
    "all_tables = soup.find_all(\"table\")\n",
    "print(len(all_tables), type(all_tables))"
   ]
  },
  {
   "cell_type": "markdown",
   "metadata": {},
   "source": [
    "### Using Requests and BeautifulSoup, we now have the contents of the html file for use, explore a bit more by finding the tables and the header and row elements"
   ]
  },
  {
   "cell_type": "code",
   "execution_count": 7,
   "metadata": {},
   "outputs": [
    {
     "name": "stdout",
     "output_type": "stream",
     "text": [
      "102 <class 'bs4.element.ResultSet'>\n",
      "19 <class 'bs4.element.ResultSet'>\n"
     ]
    }
   ],
   "source": [
    "table = all_tables[0]\n",
    "trs = table.find_all(\"tr\")\n",
    "print(len(trs), type(trs))\n",
    "\n",
    "tr = trs[1]\n",
    "ths = tr.find_all(\"th\")\n",
    "print(len(ths), type(ths))"
   ]
  },
  {
   "cell_type": "code",
   "execution_count": 8,
   "metadata": {},
   "outputs": [
    {
     "name": "stdout",
     "output_type": "stream",
     "text": [
      "19 <class 'list'>\n",
      "19\n"
     ]
    }
   ],
   "source": [
    "headers = trs[1].text.strip().split('\\n')\n",
    "ncols = len(headers)\n",
    "print(len(headers), type(headers))\n",
    "\n",
    "tds = trs[2].find_all('td')\n",
    "print(len(tds))"
   ]
  },
  {
   "cell_type": "code",
   "execution_count": 9,
   "metadata": {},
   "outputs": [
    {
     "data": {
      "text/plain": [
       "['Player',\n",
       " 'Team',\n",
       " 'Opponent',\n",
       " 'Pts*',\n",
       " 'Att',\n",
       " 'Cmp',\n",
       " 'Yds',\n",
       " 'TD',\n",
       " 'Int',\n",
       " '2Pt',\n",
       " 'Att',\n",
       " 'Yds',\n",
       " 'TD',\n",
       " '2Pt',\n",
       " 'Rec',\n",
       " 'Yds',\n",
       " 'TD',\n",
       " '2Pt',\n",
       " 'FL',\n",
       " 'TD',\n",
       " 'Week']"
      ]
     },
     "execution_count": 9,
     "metadata": {},
     "output_type": "execute_result"
    }
   ],
   "source": [
    "# modify headers to accomodate my DF structure\n",
    "headers\n",
    "headers.remove('Game')\n",
    "headers.insert(1, 'Team')\n",
    "headers.insert(2, 'Opponent')\n",
    "headers.append('Week')\n",
    "headers"
   ]
  },
  {
   "cell_type": "markdown",
   "metadata": {},
   "source": [
    "### The for-loop below parses each row. The player name is formatted, and regex groups() used to pull just the first and last names. Games are parsed and split into team the player plays for (bolded) and the opposing team. Home and Away designation is provided based on the position of the opposing team relative to the @ symbol"
   ]
  },
  {
   "cell_type": "code",
   "execution_count": 17,
   "metadata": {
    "scrolled": true
   },
   "outputs": [
    {
     "name": "stdout",
     "output_type": "stream",
     "text": [
      "<class 'pandas.core.frame.DataFrame'>\n"
     ]
    },
    {
     "data": {
      "text/html": [
       "<div>\n",
       "<style>\n",
       "    .dataframe thead tr:only-child th {\n",
       "        text-align: right;\n",
       "    }\n",
       "\n",
       "    .dataframe thead th {\n",
       "        text-align: left;\n",
       "    }\n",
       "\n",
       "    .dataframe tbody tr th {\n",
       "        vertical-align: top;\n",
       "    }\n",
       "</style>\n",
       "<table border=\"1\" class=\"dataframe\">\n",
       "  <thead>\n",
       "    <tr style=\"text-align: right;\">\n",
       "      <th></th>\n",
       "      <th>Player</th>\n",
       "      <th>Team</th>\n",
       "      <th>Opponent</th>\n",
       "      <th>Pts*</th>\n",
       "      <th>Att</th>\n",
       "      <th>Cmp</th>\n",
       "      <th>Yds</th>\n",
       "      <th>TD</th>\n",
       "      <th>Int</th>\n",
       "      <th>2Pt</th>\n",
       "      <th>...</th>\n",
       "      <th>Yds</th>\n",
       "      <th>TD</th>\n",
       "      <th>2Pt</th>\n",
       "      <th>Rec</th>\n",
       "      <th>Yds</th>\n",
       "      <th>TD</th>\n",
       "      <th>2Pt</th>\n",
       "      <th>FL</th>\n",
       "      <th>TD</th>\n",
       "      <th>Week</th>\n",
       "    </tr>\n",
       "  </thead>\n",
       "  <tbody>\n",
       "    <tr>\n",
       "      <th>0</th>\n",
       "      <td>Andrew Luck</td>\n",
       "      <td>IND</td>\n",
       "      <td>@DET</td>\n",
       "      <td>4300</td>\n",
       "      <td>47</td>\n",
       "      <td>31</td>\n",
       "      <td>385</td>\n",
       "      <td>4</td>\n",
       "      <td>0</td>\n",
       "      <td>1</td>\n",
       "      <td>...</td>\n",
       "      <td>21</td>\n",
       "      <td>0</td>\n",
       "      <td>0</td>\n",
       "      <td>0</td>\n",
       "      <td>0</td>\n",
       "      <td>0</td>\n",
       "      <td>0</td>\n",
       "      <td>0</td>\n",
       "      <td>0</td>\n",
       "      <td>1</td>\n",
       "    </tr>\n",
       "    <tr>\n",
       "      <th>1</th>\n",
       "      <td>Drew Brees</td>\n",
       "      <td>NO</td>\n",
       "      <td>@OAK</td>\n",
       "      <td>3900</td>\n",
       "      <td>42</td>\n",
       "      <td>28</td>\n",
       "      <td>423</td>\n",
       "      <td>4</td>\n",
       "      <td>0</td>\n",
       "      <td>0</td>\n",
       "      <td>...</td>\n",
       "      <td>5</td>\n",
       "      <td>0</td>\n",
       "      <td>0</td>\n",
       "      <td>0</td>\n",
       "      <td>0</td>\n",
       "      <td>0</td>\n",
       "      <td>0</td>\n",
       "      <td>1</td>\n",
       "      <td>0</td>\n",
       "      <td>1</td>\n",
       "    </tr>\n",
       "    <tr>\n",
       "      <th>2</th>\n",
       "      <td>Jameis Winston</td>\n",
       "      <td>TB</td>\n",
       "      <td>ATL</td>\n",
       "      <td>3300</td>\n",
       "      <td>32</td>\n",
       "      <td>23</td>\n",
       "      <td>281</td>\n",
       "      <td>4</td>\n",
       "      <td>1</td>\n",
       "      <td>0</td>\n",
       "      <td>...</td>\n",
       "      <td>3</td>\n",
       "      <td>0</td>\n",
       "      <td>0</td>\n",
       "      <td>0</td>\n",
       "      <td>0</td>\n",
       "      <td>0</td>\n",
       "      <td>0</td>\n",
       "      <td>0</td>\n",
       "      <td>0</td>\n",
       "      <td>1</td>\n",
       "    </tr>\n",
       "    <tr>\n",
       "      <th>3</th>\n",
       "      <td>Matthew Stafford</td>\n",
       "      <td>DET</td>\n",
       "      <td>IND</td>\n",
       "      <td>3100</td>\n",
       "      <td>39</td>\n",
       "      <td>31</td>\n",
       "      <td>340</td>\n",
       "      <td>3</td>\n",
       "      <td>0</td>\n",
       "      <td>0</td>\n",
       "      <td>...</td>\n",
       "      <td>5</td>\n",
       "      <td>0</td>\n",
       "      <td>0</td>\n",
       "      <td>0</td>\n",
       "      <td>0</td>\n",
       "      <td>0</td>\n",
       "      <td>0</td>\n",
       "      <td>0</td>\n",
       "      <td>0</td>\n",
       "      <td>1</td>\n",
       "    </tr>\n",
       "    <tr>\n",
       "      <th>4</th>\n",
       "      <td>Alex Smith</td>\n",
       "      <td>KC</td>\n",
       "      <td>@SD</td>\n",
       "      <td>3100</td>\n",
       "      <td>48</td>\n",
       "      <td>34</td>\n",
       "      <td>363</td>\n",
       "      <td>2</td>\n",
       "      <td>1</td>\n",
       "      <td>0</td>\n",
       "      <td>...</td>\n",
       "      <td>15</td>\n",
       "      <td>1</td>\n",
       "      <td>0</td>\n",
       "      <td>0</td>\n",
       "      <td>0</td>\n",
       "      <td>0</td>\n",
       "      <td>0</td>\n",
       "      <td>0</td>\n",
       "      <td>0</td>\n",
       "      <td>1</td>\n",
       "    </tr>\n",
       "    <tr>\n",
       "      <th>5</th>\n",
       "      <td>DeAngelo Williams</td>\n",
       "      <td>PIT</td>\n",
       "      <td>WAS</td>\n",
       "      <td>2800</td>\n",
       "      <td>0</td>\n",
       "      <td>0</td>\n",
       "      <td>0</td>\n",
       "      <td>0</td>\n",
       "      <td>0</td>\n",
       "      <td>0</td>\n",
       "      <td>...</td>\n",
       "      <td>143</td>\n",
       "      <td>2</td>\n",
       "      <td>0</td>\n",
       "      <td>6</td>\n",
       "      <td>28</td>\n",
       "      <td>0</td>\n",
       "      <td>0</td>\n",
       "      <td>0</td>\n",
       "      <td>0</td>\n",
       "      <td>1</td>\n",
       "    </tr>\n",
       "    <tr>\n",
       "      <th>6</th>\n",
       "      <td>Matt Ryan</td>\n",
       "      <td>ATL</td>\n",
       "      <td>@TB</td>\n",
       "      <td>2800</td>\n",
       "      <td>39</td>\n",
       "      <td>27</td>\n",
       "      <td>334</td>\n",
       "      <td>2</td>\n",
       "      <td>0</td>\n",
       "      <td>1</td>\n",
       "      <td>...</td>\n",
       "      <td>10</td>\n",
       "      <td>0</td>\n",
       "      <td>0</td>\n",
       "      <td>0</td>\n",
       "      <td>0</td>\n",
       "      <td>0</td>\n",
       "      <td>0</td>\n",
       "      <td>0</td>\n",
       "      <td>0</td>\n",
       "      <td>1</td>\n",
       "    </tr>\n",
       "    <tr>\n",
       "      <th>7</th>\n",
       "      <td>Ben Roethlisberger</td>\n",
       "      <td>PIT</td>\n",
       "      <td>WAS</td>\n",
       "      <td>2800</td>\n",
       "      <td>37</td>\n",
       "      <td>27</td>\n",
       "      <td>300</td>\n",
       "      <td>3</td>\n",
       "      <td>1</td>\n",
       "      <td>0</td>\n",
       "      <td>...</td>\n",
       "      <td>-2</td>\n",
       "      <td>0</td>\n",
       "      <td>0</td>\n",
       "      <td>0</td>\n",
       "      <td>0</td>\n",
       "      <td>0</td>\n",
       "      <td>0</td>\n",
       "      <td>0</td>\n",
       "      <td>0</td>\n",
       "      <td>1</td>\n",
       "    </tr>\n",
       "    <tr>\n",
       "      <th>8</th>\n",
       "      <td>Brandin Cooks</td>\n",
       "      <td>NO</td>\n",
       "      <td>@OAK</td>\n",
       "      <td>2700</td>\n",
       "      <td>0</td>\n",
       "      <td>0</td>\n",
       "      <td>0</td>\n",
       "      <td>0</td>\n",
       "      <td>0</td>\n",
       "      <td>0</td>\n",
       "      <td>...</td>\n",
       "      <td>11</td>\n",
       "      <td>0</td>\n",
       "      <td>0</td>\n",
       "      <td>6</td>\n",
       "      <td>143</td>\n",
       "      <td>2</td>\n",
       "      <td>0</td>\n",
       "      <td>0</td>\n",
       "      <td>0</td>\n",
       "      <td>1</td>\n",
       "    </tr>\n",
       "    <tr>\n",
       "      <th>9</th>\n",
       "      <td>Aaron Rodgers</td>\n",
       "      <td>GB</td>\n",
       "      <td>JAX</td>\n",
       "      <td>2600</td>\n",
       "      <td>34</td>\n",
       "      <td>20</td>\n",
       "      <td>199</td>\n",
       "      <td>2</td>\n",
       "      <td>0</td>\n",
       "      <td>0</td>\n",
       "      <td>...</td>\n",
       "      <td>16</td>\n",
       "      <td>1</td>\n",
       "      <td>0</td>\n",
       "      <td>0</td>\n",
       "      <td>0</td>\n",
       "      <td>0</td>\n",
       "      <td>0</td>\n",
       "      <td>0</td>\n",
       "      <td>0</td>\n",
       "      <td>1</td>\n",
       "    </tr>\n",
       "  </tbody>\n",
       "</table>\n",
       "<p>10 rows × 21 columns</p>\n",
       "</div>"
      ],
      "text/plain": [
       "               Player Team Opponent  Pts* Att Cmp  Yds TD Int 2Pt ...   Yds  \\\n",
       "0         Andrew Luck  IND     @DET  4300  47  31  385  4   0   1 ...    21   \n",
       "1          Drew Brees   NO     @OAK  3900  42  28  423  4   0   0 ...     5   \n",
       "2      Jameis Winston   TB      ATL  3300  32  23  281  4   1   0 ...     3   \n",
       "3    Matthew Stafford  DET      IND  3100  39  31  340  3   0   0 ...     5   \n",
       "4          Alex Smith   KC      @SD  3100  48  34  363  2   1   0 ...    15   \n",
       "5   DeAngelo Williams  PIT      WAS  2800   0   0    0  0   0   0 ...   143   \n",
       "6           Matt Ryan  ATL      @TB  2800  39  27  334  2   0   1 ...    10   \n",
       "7  Ben Roethlisberger  PIT      WAS  2800  37  27  300  3   1   0 ...    -2   \n",
       "8       Brandin Cooks   NO     @OAK  2700   0   0    0  0   0   0 ...    11   \n",
       "9       Aaron Rodgers   GB      JAX  2600  34  20  199  2   0   0 ...    16   \n",
       "\n",
       "  TD 2Pt Rec  Yds TD 2Pt FL TD Week  \n",
       "0  0   0   0    0  0   0  0  0    1  \n",
       "1  0   0   0    0  0   0  1  0    1  \n",
       "2  0   0   0    0  0   0  0  0    1  \n",
       "3  0   0   0    0  0   0  0  0    1  \n",
       "4  1   0   0    0  0   0  0  0    1  \n",
       "5  2   0   6   28  0   0  0  0    1  \n",
       "6  0   0   0    0  0   0  0  0    1  \n",
       "7  0   0   0    0  0   0  0  0    1  \n",
       "8  0   0   6  143  2   0  0  0    1  \n",
       "9  1   0   0    0  0   0  0  0    1  \n",
       "\n",
       "[10 rows x 21 columns]"
      ]
     },
     "execution_count": 17,
     "metadata": {},
     "output_type": "execute_result"
    }
   ],
   "source": [
    "import pandas as pd\n",
    "\n",
    "rows = []\n",
    "for tr in trs[2:]:\n",
    "    \n",
    "    row = []\n",
    "    \n",
    "    for td in tr.find_all('td'):\n",
    "        \n",
    "        if len(td) > 0:    \n",
    "            text = td.text.replace(\"\\xa0\", \" \").replace('.', '')\n",
    "            \n",
    "            # get team of player and opposing team, and home/away\n",
    "            bold = td.find('b')\n",
    "            if bold:\n",
    "                row.append(bold.text)\n",
    "                m = re.match(r\"^(.+)@(.+)$\", text)\n",
    "                if m and text.startswith(bold.text):\n",
    "                    row.append(m.groups()[1])\n",
    "                else:\n",
    "                    row.append('@' + m.groups()[0])\n",
    "                continue\n",
    "                \n",
    "            \n",
    "            # parse player name from awful text\n",
    "            m = re.match(r\"^(.+) (.+)\", text)\n",
    "            if m:\n",
    "                name = m.groups()[0][:-1]\n",
    "                name\n",
    "                row.append(name)\n",
    "                continue\n",
    "                \n",
    "            row.append(text)\n",
    "    \n",
    "    row.append(1)\n",
    "    rows.append(row)\n",
    "\n",
    "rows\n",
    "my_table = pd.DataFrame(rows, columns=headers)\n",
    "\n",
    "#print(my_table.size)\n",
    "#print(my_table.shape)\n",
    "\n",
    "print(type(my_table))\n",
    "my_table.head(10)"
   ]
  },
  {
   "cell_type": "markdown",
   "metadata": {},
   "source": [
    "### Now that we have an example table and an understanding of the processing needed, we can incorporate it into a function and use query strings to scrape tables for all 16 weeks of the 2016 NFL season"
   ]
  },
  {
   "cell_type": "code",
   "execution_count": 11,
   "metadata": {
    "collapsed": true
   },
   "outputs": [],
   "source": [
    "# save sample table\n",
    "# my_table.to_csv(wd + \"/csv/sample_table.csv\", index=False)"
   ]
  },
  {
   "cell_type": "code",
   "execution_count": 12,
   "metadata": {},
   "outputs": [
    {
     "data": {
      "text/plain": [
       "'Drew Brees'"
      ]
     },
     "execution_count": 12,
     "metadata": {},
     "output_type": "execute_result"
    }
   ],
   "source": [
    "# This is okay but we want to clean up the 'Player' column, use regex to pull out firs tand last names\n",
    "some_name = 'Drew BreesD Brees'\n",
    "m = re.match(r\"^(.+) (.+)\", some_name)\n",
    "name = m.groups()[0][:-1]\n",
    "name\n",
    "# This is working so I'll plug into the function above and re-run to test it out"
   ]
  }
 ],
 "metadata": {
  "kernelspec": {
   "display_name": "Python 3",
   "language": "python",
   "name": "python3"
  },
  "language_info": {
   "codemirror_mode": {
    "name": "ipython",
    "version": 3
   },
   "file_extension": ".py",
   "mimetype": "text/x-python",
   "name": "python",
   "nbconvert_exporter": "python",
   "pygments_lexer": "ipython3",
   "version": "3.6.0"
  }
 },
 "nbformat": 4,
 "nbformat_minor": 2
}
