{
 "cells": [
  {
   "cell_type": "markdown",
   "metadata": {},
   "source": [
    "# CS544 Foundations of Analytics\n",
    "# Professor Suresh Kalathur\n",
    "# Final Project - Mike Zhong"
   ]
  },
  {
   "cell_type": "code",
   "execution_count": 3,
   "metadata": {},
   "outputs": [
    {
     "name": "stderr",
     "output_type": "stream",
     "text": [
      "Warning message:\n",
      "\"package 'sampling' was built under R version 3.4.2\"\n",
      "Attaching package: 'prob'\n",
      "\n",
      "The following objects are masked from 'package:base':\n",
      "\n",
      "    intersect, setdiff, union\n",
      "\n"
     ]
    }
   ],
   "source": [
    "library(sampling)\n",
    "library(repr)\n",
    "library(prob)"
   ]
  },
  {
   "cell_type": "markdown",
   "metadata": {},
   "source": [
    "## Part 4) \n",
    "## This notebook will walk through the mandatory analysis as specified by the project requirements. Recall that for each week, only the top 100 scoring players are present in the data frame. As a result, not each player will be represented in each week"
   ]
  },
  {
   "cell_type": "code",
   "execution_count": 4,
   "metadata": {},
   "outputs": [
    {
     "data": {
      "text/html": [
       "<table>\n",
       "<thead><tr><th scope=col>Player</th><th scope=col>Team</th><th scope=col>Opponent</th><th scope=col>Location</th><th scope=col>Pts</th><th scope=col>Att</th><th scope=col>Cmp</th><th scope=col>Yds</th><th scope=col>TD</th><th scope=col>Int</th><th scope=col>...</th><th scope=col>Rush.TD</th><th scope=col>Rush.2Pt</th><th scope=col>Rec</th><th scope=col>Rec.Yds</th><th scope=col>Rec.TD</th><th scope=col>Rec.2Pt</th><th scope=col>FL</th><th scope=col>Misc.TD</th><th scope=col>Week</th><th scope=col>Position</th></tr></thead>\n",
       "<tbody>\n",
       "\t<tr><td>Andrew Luck      </td><td>IND              </td><td>@DET             </td><td>away             </td><td>43               </td><td>47               </td><td>31               </td><td>385              </td><td>4                </td><td>0                </td><td>...              </td><td>0                </td><td>0                </td><td> 0               </td><td>  0              </td><td>0                </td><td>0                </td><td>0                </td><td>0                </td><td>1                </td><td>QB               </td></tr>\n",
       "\t<tr><td>Drew Brees       </td><td>NO               </td><td>@OAK             </td><td>away             </td><td>39               </td><td>42               </td><td>28               </td><td>423              </td><td>4                </td><td>0                </td><td>...              </td><td>0                </td><td>0                </td><td> 0               </td><td>  0              </td><td>0                </td><td>0                </td><td>1                </td><td>0                </td><td>1                </td><td>QB               </td></tr>\n",
       "\t<tr><td>AJ Green         </td><td>CIN              </td><td>NYJ              </td><td>home             </td><td>36               </td><td> 0               </td><td> 0               </td><td>  0              </td><td>0                </td><td>0                </td><td>...              </td><td>0                </td><td>0                </td><td>12               </td><td>180              </td><td>1                </td><td>0                </td><td>0                </td><td>0                </td><td>1                </td><td>WR               </td></tr>\n",
       "\t<tr><td>DeAngelo Williams</td><td>PIT              </td><td>WAS              </td><td>home             </td><td>34               </td><td> 0               </td><td> 0               </td><td>  0              </td><td>0                </td><td>0                </td><td>...              </td><td>2                </td><td>0                </td><td> 6               </td><td> 28              </td><td>0                </td><td>0                </td><td>0                </td><td>0                </td><td>1                </td><td>RB               </td></tr>\n",
       "\t<tr><td>Jameis Winston   </td><td>TB               </td><td>ATL              </td><td>home             </td><td>33               </td><td>32               </td><td>23               </td><td>281              </td><td>4                </td><td>1                </td><td>...              </td><td>0                </td><td>0                </td><td> 0               </td><td>  0              </td><td>0                </td><td>0                </td><td>0                </td><td>0                </td><td>1                </td><td>QB               </td></tr>\n",
       "\t<tr><td>Brandin Cooks    </td><td>NO               </td><td>@OAK             </td><td>away             </td><td>33               </td><td> 0               </td><td> 0               </td><td>  0              </td><td>0                </td><td>0                </td><td>...              </td><td>0                </td><td>0                </td><td> 6               </td><td>143              </td><td>2                </td><td>0                </td><td>0                </td><td>0                </td><td>1                </td><td>WR               </td></tr>\n",
       "</tbody>\n",
       "</table>\n"
      ],
      "text/latex": [
       "\\begin{tabular}{r|lllllllllllllllllllllll}\n",
       " Player & Team & Opponent & Location & Pts & Att & Cmp & Yds & TD & Int & ... & Rush.TD & Rush.2Pt & Rec & Rec.Yds & Rec.TD & Rec.2Pt & FL & Misc.TD & Week & Position\\\\\n",
       "\\hline\n",
       "\t Andrew Luck       & IND               & @DET              & away              & 43                & 47                & 31                & 385               & 4                 & 0                 & ...               & 0                 & 0                 &  0                &   0               & 0                 & 0                 & 0                 & 0                 & 1                 & QB               \\\\\n",
       "\t Drew Brees        & NO                & @OAK              & away              & 39                & 42                & 28                & 423               & 4                 & 0                 & ...               & 0                 & 0                 &  0                &   0               & 0                 & 0                 & 1                 & 0                 & 1                 & QB               \\\\\n",
       "\t AJ Green          & CIN               & NYJ               & home              & 36                &  0                &  0                &   0               & 0                 & 0                 & ...               & 0                 & 0                 & 12                & 180               & 1                 & 0                 & 0                 & 0                 & 1                 & WR               \\\\\n",
       "\t DeAngelo Williams & PIT               & WAS               & home              & 34                &  0                &  0                &   0               & 0                 & 0                 & ...               & 2                 & 0                 &  6                &  28               & 0                 & 0                 & 0                 & 0                 & 1                 & RB               \\\\\n",
       "\t Jameis Winston    & TB                & ATL               & home              & 33                & 32                & 23                & 281               & 4                 & 1                 & ...               & 0                 & 0                 &  0                &   0               & 0                 & 0                 & 0                 & 0                 & 1                 & QB               \\\\\n",
       "\t Brandin Cooks     & NO                & @OAK              & away              & 33                &  0                &  0                &   0               & 0                 & 0                 & ...               & 0                 & 0                 &  6                & 143               & 2                 & 0                 & 0                 & 0                 & 1                 & WR               \\\\\n",
       "\\end{tabular}\n"
      ],
      "text/markdown": [
       "\n",
       "Player | Team | Opponent | Location | Pts | Att | Cmp | Yds | TD | Int | ... | Rush.TD | Rush.2Pt | Rec | Rec.Yds | Rec.TD | Rec.2Pt | FL | Misc.TD | Week | Position | \n",
       "|---|---|---|---|---|---|\n",
       "| Andrew Luck       | IND               | @DET              | away              | 43                | 47                | 31                | 385               | 4                 | 0                 | ...               | 0                 | 0                 |  0                |   0               | 0                 | 0                 | 0                 | 0                 | 1                 | QB                | \n",
       "| Drew Brees        | NO                | @OAK              | away              | 39                | 42                | 28                | 423               | 4                 | 0                 | ...               | 0                 | 0                 |  0                |   0               | 0                 | 0                 | 1                 | 0                 | 1                 | QB                | \n",
       "| AJ Green          | CIN               | NYJ               | home              | 36                |  0                |  0                |   0               | 0                 | 0                 | ...               | 0                 | 0                 | 12                | 180               | 1                 | 0                 | 0                 | 0                 | 1                 | WR                | \n",
       "| DeAngelo Williams | PIT               | WAS               | home              | 34                |  0                |  0                |   0               | 0                 | 0                 | ...               | 2                 | 0                 |  6                |  28               | 0                 | 0                 | 0                 | 0                 | 1                 | RB                | \n",
       "| Jameis Winston    | TB                | ATL               | home              | 33                | 32                | 23                | 281               | 4                 | 1                 | ...               | 0                 | 0                 |  0                |   0               | 0                 | 0                 | 0                 | 0                 | 1                 | QB                | \n",
       "| Brandin Cooks     | NO                | @OAK              | away              | 33                |  0                |  0                |   0               | 0                 | 0                 | ...               | 0                 | 0                 |  6                | 143               | 2                 | 0                 | 0                 | 0                 | 1                 | WR                | \n",
       "\n",
       "\n"
      ],
      "text/plain": [
       "  Player            Team Opponent Location Pts Att Cmp Yds TD Int ... Rush.TD\n",
       "1 Andrew Luck       IND  @DET     away     43  47  31  385 4  0   ... 0      \n",
       "2 Drew Brees        NO   @OAK     away     39  42  28  423 4  0   ... 0      \n",
       "3 AJ Green          CIN  NYJ      home     36   0   0    0 0  0   ... 0      \n",
       "4 DeAngelo Williams PIT  WAS      home     34   0   0    0 0  0   ... 2      \n",
       "5 Jameis Winston    TB   ATL      home     33  32  23  281 4  1   ... 0      \n",
       "6 Brandin Cooks     NO   @OAK     away     33   0   0    0 0  0   ... 0      \n",
       "  Rush.2Pt Rec Rec.Yds Rec.TD Rec.2Pt FL Misc.TD Week Position\n",
       "1 0         0    0     0      0       0  0       1    QB      \n",
       "2 0         0    0     0      0       1  0       1    QB      \n",
       "3 0        12  180     1      0       0  0       1    WR      \n",
       "4 0         6   28     0      0       0  0       1    RB      \n",
       "5 0         0    0     0      0       0  0       1    QB      \n",
       "6 0         6  143     2      0       0  0       1    WR      "
      ]
     },
     "metadata": {},
     "output_type": "display_data"
    }
   ],
   "source": [
    "full_data <- read.csv(\"./data/complete_data.csv\")\n",
    "head(full_data)"
   ]
  },
  {
   "cell_type": "code",
   "execution_count": 5,
   "metadata": {},
   "outputs": [
    {
     "data": {
      "text/html": [
       "<ol class=list-inline>\n",
       "\t<li>1615</li>\n",
       "\t<li>23</li>\n",
       "</ol>\n"
      ],
      "text/latex": [
       "\\begin{enumerate*}\n",
       "\\item 1615\n",
       "\\item 23\n",
       "\\end{enumerate*}\n"
      ],
      "text/markdown": [
       "1. 1615\n",
       "2. 23\n",
       "\n",
       "\n"
      ],
      "text/plain": [
       "[1] 1615   23"
      ]
     },
     "metadata": {},
     "output_type": "display_data"
    },
    {
     "data": {
      "text/html": [
       "1615"
      ],
      "text/latex": [
       "1615"
      ],
      "text/markdown": [
       "1615"
      ],
      "text/plain": [
       "[1] 1615"
      ]
     },
     "metadata": {},
     "output_type": "display_data"
    },
    {
     "data": {
      "text/html": [
       "23"
      ],
      "text/latex": [
       "23"
      ],
      "text/markdown": [
       "23"
      ],
      "text/plain": [
       "[1] 23"
      ]
     },
     "metadata": {},
     "output_type": "display_data"
    }
   ],
   "source": [
    "dim(full_data)\n",
    "nrow(full_data)\n",
    "ncol(full_data)"
   ]
  },
  {
   "cell_type": "markdown",
   "metadata": {},
   "source": [
    "### For our categorical variable, let's use the Team, then we can see over the course a season, how many players for each team appear in our data frame"
   ]
  },
  {
   "cell_type": "code",
   "execution_count": 6,
   "metadata": {},
   "outputs": [
    {
     "data": {
      "text/plain": [
       "team\n",
       "ARI ATL BAL BUF CAR CHI CIN CLE DAL DEN DET  GB HOU IND JAX  KC  LA MIA MIN  NE \n",
       " 73  58  48  45  53  53  48  40  56  38  49  55  38  55  49  50  37  51  48  61 \n",
       " NO NYG NYJ OAK PHI PIT  SD SEA  SF  TB TEN WAS \n",
       " 61  47  42  55  48  52  61  47  40  47  50  60 "
      ]
     },
     "metadata": {},
     "output_type": "display_data"
    }
   ],
   "source": [
    "team <- full_data$Team\n",
    "table(team)"
   ]
  },
  {
   "cell_type": "code",
   "execution_count": 7,
   "metadata": {},
   "outputs": [
    {
     "data": {
      "image/png": "[encoded data removed]",
      "text/plain": [
       "Plot with title \"Number of players for each team\""
      ]
     },
     "metadata": {},
     "output_type": "display_data"
    }
   ],
   "source": [
    "barplot(table(team),\n",
    "       main=\"Number of players for each team\",\n",
    "       xlab=\"Number of Players\",\n",
    "       ylab=\"Team\",\n",
    "       las=2,\n",
    "       xlim=c(0, 80),\n",
    "       col='blue',\n",
    "       horiz=TRUE)"
   ]
  },
  {
   "cell_type": "markdown",
   "metadata": {},
   "source": [
    "### We can also use the position as a categorical variable. Recall that since only the top scoring 100 players are recorded for each week, quarterbacks will be overrepresented since they generally score more points than the other positions"
   ]
  },
  {
   "cell_type": "code",
   "execution_count": 8,
   "metadata": {},
   "outputs": [
    {
     "data": {
      "text/plain": [
       "positions\n",
       " QB  RB  TE  WR \n",
       "396 377 195 647 "
      ]
     },
     "metadata": {},
     "output_type": "display_data"
    }
   ],
   "source": [
    "positions <- full_data$Position\n",
    "table(positions)"
   ]
  },
  {
   "cell_type": "code",
   "execution_count": 9,
   "metadata": {},
   "outputs": [
    {
     "data": {
      "image/png": "[encoded data removed]",
      "text/plain": [
       "Plot with title \"Number of players for each position\""
      ]
     },
     "metadata": {},
     "output_type": "display_data"
    }
   ],
   "source": [
    "barplot(table(positions),\n",
    "       main=\"Number of players for each position\",\n",
    "       xlab=\"Number of Players\",\n",
    "       ylab=\"Position\",\n",
    "       las=2,\n",
    "       xlim=c(0, 700),\n",
    "       col='blue',\n",
    "       horiz=TRUE)"
   ]
  },
  {
   "cell_type": "markdown",
   "metadata": {},
   "source": [
    "### For Numerical data, the obvious choice is Points"
   ]
  },
  {
   "cell_type": "code",
   "execution_count": 10,
   "metadata": {},
   "outputs": [
    {
     "data": {
      "text/html": [
       "<ol class=list-inline>\n",
       "\t<li>43</li>\n",
       "\t<li>39</li>\n",
       "\t<li>36</li>\n",
       "\t<li>34</li>\n",
       "\t<li>33</li>\n",
       "\t<li>33</li>\n",
       "</ol>\n"
      ],
      "text/latex": [
       "\\begin{enumerate*}\n",
       "\\item 43\n",
       "\\item 39\n",
       "\\item 36\n",
       "\\item 34\n",
       "\\item 33\n",
       "\\item 33\n",
       "\\end{enumerate*}\n"
      ],
      "text/markdown": [
       "1. 43\n",
       "2. 39\n",
       "3. 36\n",
       "4. 34\n",
       "5. 33\n",
       "6. 33\n",
       "\n",
       "\n"
      ],
      "text/plain": [
       "[1] 43 39 36 34 33 33"
      ]
     },
     "metadata": {},
     "output_type": "display_data"
    },
    {
     "data": {
      "text/plain": [
       "   Min. 1st Qu.  Median    Mean 3rd Qu.    Max. \n",
       "   9.00   13.00   16.00   18.42   22.00   51.00 "
      ]
     },
     "metadata": {},
     "output_type": "display_data"
    },
    {
     "data": {
      "text/html": [
       "<ol class=list-inline>\n",
       "\t<li>9</li>\n",
       "\t<li>13</li>\n",
       "\t<li>16</li>\n",
       "\t<li>22</li>\n",
       "\t<li>51</li>\n",
       "</ol>\n"
      ],
      "text/latex": [
       "\\begin{enumerate*}\n",
       "\\item 9\n",
       "\\item 13\n",
       "\\item 16\n",
       "\\item 22\n",
       "\\item 51\n",
       "\\end{enumerate*}\n"
      ],
      "text/markdown": [
       "1. 9\n",
       "2. 13\n",
       "3. 16\n",
       "4. 22\n",
       "5. 51\n",
       "\n",
       "\n"
      ],
      "text/plain": [
       "[1]  9 13 16 22 51"
      ]
     },
     "metadata": {},
     "output_type": "display_data"
    }
   ],
   "source": [
    "points <- full_data$Pts\n",
    "head(points)\n",
    "summary(points)\n",
    "fivenum(points)"
   ]
  },
  {
   "cell_type": "code",
   "execution_count": 25,
   "metadata": {},
   "outputs": [
    {
     "data": {
      "image/png": "[encoded data removed]",
      "text/plain": [
       "Plot with title \"Histogram of points scored by players over a season\""
      ]
     },
     "metadata": {},
     "output_type": "display_data"
    }
   ],
   "source": [
    "# Plot distribution of points\n",
    "options(repr.plot.height=4)\n",
    "hist(points, breaks=seq(0, 55, by=2),\n",
    "    ylim=c(0, 300),\n",
    "    col='red',\n",
    "    main='Histogram of points scored by players over a season')"
   ]
  },
  {
   "cell_type": "markdown",
   "metadata": {},
   "source": [
    "### This data is not very informative since different positions are scored differently. It makes more sense to break up the points by position and look at the distributions then"
   ]
  },
  {
   "cell_type": "code",
   "execution_count": 12,
   "metadata": {
    "collapsed": true
   },
   "outputs": [],
   "source": [
    "qb_pts <- full_data$Pts[full_data$Position == 'QB']\n",
    "wr_pts <- full_data$Pts[full_data$Position == 'WR']\n",
    "rb_pts <- full_data$Pts[full_data$Position == 'RB']\n",
    "te_pts <- full_data$Pts[full_data$Position == 'TE']"
   ]
  },
  {
   "cell_type": "code",
   "execution_count": 13,
   "metadata": {},
   "outputs": [
    {
     "data": {
      "image/png": "[encoded data removed]",
      "text/plain": [
       "Plot with title \"points scored by TEs over a season\""
      ]
     },
     "metadata": {},
     "output_type": "display_data"
    }
   ],
   "source": [
    "par(mfrow=c(2, 2))\n",
    "options(repr.plot.height = 8)\n",
    "\n",
    "hist(qb_pts, breaks=seq(0, 55, by=2),\n",
    "    ylim=c(0, 50),\n",
    "    col='red',\n",
    "    main='points scored by QBs over a season')\n",
    "\n",
    "hist(wr_pts, breaks=seq(0, 55, by=2),\n",
    "    ylim=c(0, 140),\n",
    "    col='blue',\n",
    "    main='points scored by WRs over a season')\n",
    "\n",
    "hist(rb_pts, breaks=seq(0, 55, by=2),\n",
    "    ylim=c(0, 80),\n",
    "    col='green',\n",
    "    main='points scored by RBs over a season')\n",
    "\n",
    "hist(te_pts, breaks=seq(0, 55, by=2),\n",
    "    ylim=c(0, 50),\n",
    "    col='yellow',\n",
    "    main='points scored by TEs over a season')"
   ]
  },
  {
   "cell_type": "markdown",
   "metadata": {},
   "source": [
    "### We can also draw boxplots to identify outliers"
   ]
  },
  {
   "cell_type": "code",
   "execution_count": 14,
   "metadata": {},
   "outputs": [
    {
     "data": {
      "image/png": "[encoded data removed]",
      "text/plain": [
       "Plot with title \"Tight End Points Scored\""
      ]
     },
     "metadata": {},
     "output_type": "display_data"
    }
   ],
   "source": [
    "par(mfrow=c(2, 2))\n",
    "options(repr.plot.height = 6)\n",
    "\n",
    "boxplot(qb_pts, horizontal=TRUE,\n",
    "       xlab=\"Points\",\n",
    "       main=\"Quarterback Points Scored\",\n",
    "       col='red')\n",
    "\n",
    "boxplot(wr_pts, horizontal=TRUE,\n",
    "       xlab=\"Points\",\n",
    "       main=\"Wide Receiver Points Scored\",\n",
    "       col='blue')\n",
    "\n",
    "boxplot(rb_pts, horizontal=TRUE,\n",
    "       xlab=\"Points\",\n",
    "       main=\"Running Back Points Scored\",\n",
    "       col='green')\n",
    "\n",
    "boxplot(te_pts, horizontal=TRUE,\n",
    "       xlab=\"Points\",\n",
    "       main=\"Tight End Points Scored\",\n",
    "       col='yellow')"
   ]
  },
  {
   "cell_type": "markdown",
   "metadata": {},
   "source": [
    "#### Since the data only contains the top 100 scoring players for each week, we would naturally expect to see only outliers in the positive direction since low scoring outliers are not included in this data set. Clearly, the wide receiver position is more prone to outliers, where an elite player has an excellent game and vastly outperforms the field"
   ]
  },
  {
   "cell_type": "markdown",
   "metadata": {},
   "source": [
    "#### Who is that one running back that scored over points in one game?!\n",
    "#### For those avid fantasy players, you probably already know the answer"
   ]
  },
  {
   "cell_type": "code",
   "execution_count": 15,
   "metadata": {},
   "outputs": [
    {
     "data": {
      "text/html": [
       "Le'Veon Bell"
      ],
      "text/latex": [
       "Le'Veon Bell"
      ],
      "text/markdown": [
       "Le'Veon Bell"
      ],
      "text/plain": [
       "[1] Le'Veon Bell\n",
       "321 Levels: Aaron Rodgers Adam Humphries Adam Thielen AJ Green ... Zach Zenner"
      ]
     },
     "metadata": {},
     "output_type": "display_data"
    }
   ],
   "source": [
    "full_data$Player[full_data$Position == 'RB' & full_data$Pts > 50]"
   ]
  },
  {
   "cell_type": "markdown",
   "metadata": {
    "collapsed": true
   },
   "source": [
    "### Let's use simple random sampling without replacement to take multiple samples of a set sample size. We can then compare the means of the samples with the mean of the population. We will be using Points as our random variable. We will also illustrate the central limit theorem for this random variable"
   ]
  },
  {
   "cell_type": "code",
   "execution_count": 34,
   "metadata": {},
   "outputs": [],
   "source": [
    "n_samples <- 1000 # number of samples to draw\n",
    "s_size <- 20 # number of items in each sample\n",
    "set.seed(42)\n",
    "s <- srswor(n=s_size, N=nrow(full_data))"
   ]
  },
  {
   "cell_type": "code",
   "execution_count": 35,
   "metadata": {},
   "outputs": [
    {
     "data": {
      "text/html": [
       "<ol class=list-inline>\n",
       "\t<li>13</li>\n",
       "\t<li>27</li>\n",
       "\t<li>32</li>\n",
       "\t<li>16</li>\n",
       "\t<li>21</li>\n",
       "\t<li>20</li>\n",
       "\t<li>17</li>\n",
       "\t<li>22</li>\n",
       "\t<li>11</li>\n",
       "\t<li>20</li>\n",
       "\t<li>16</li>\n",
       "\t<li>25</li>\n",
       "\t<li>21</li>\n",
       "\t<li>14</li>\n",
       "\t<li>19</li>\n",
       "\t<li>14</li>\n",
       "\t<li>12</li>\n",
       "\t<li>11</li>\n",
       "\t<li>10</li>\n",
       "\t<li>17</li>\n",
       "</ol>\n"
      ],
      "text/latex": [
       "\\begin{enumerate*}\n",
       "\\item 13\n",
       "\\item 27\n",
       "\\item 32\n",
       "\\item 16\n",
       "\\item 21\n",
       "\\item 20\n",
       "\\item 17\n",
       "\\item 22\n",
       "\\item 11\n",
       "\\item 20\n",
       "\\item 16\n",
       "\\item 25\n",
       "\\item 21\n",
       "\\item 14\n",
       "\\item 19\n",
       "\\item 14\n",
       "\\item 12\n",
       "\\item 11\n",
       "\\item 10\n",
       "\\item 17\n",
       "\\end{enumerate*}\n"
      ],
      "text/markdown": [
       "1. 13\n",
       "2. 27\n",
       "3. 32\n",
       "4. 16\n",
       "5. 21\n",
       "6. 20\n",
       "7. 17\n",
       "8. 22\n",
       "9. 11\n",
       "10. 20\n",
       "11. 16\n",
       "12. 25\n",
       "13. 21\n",
       "14. 14\n",
       "15. 19\n",
       "16. 14\n",
       "17. 12\n",
       "18. 11\n",
       "19. 10\n",
       "20. 17\n",
       "\n",
       "\n"
      ],
      "text/plain": [
       " [1] 13 27 32 16 21 20 17 22 11 20 16 25 21 14 19 14 12 11 10 17"
      ]
     },
     "metadata": {},
     "output_type": "display_data"
    }
   ],
   "source": [
    "my_srswor <- full_data$Pts[s != 0]\n",
    "my_srswor"
   ]
  },
  {
   "cell_type": "code",
   "execution_count": 36,
   "metadata": {},
   "outputs": [
    {
     "data": {
      "text/html": [
       "17.9"
      ],
      "text/latex": [
       "17.9"
      ],
      "text/markdown": [
       "17.9"
      ],
      "text/plain": [
       "[1] 17.9"
      ]
     },
     "metadata": {},
     "output_type": "display_data"
    },
    {
     "data": {
      "text/html": [
       "18.4160990712074"
      ],
      "text/latex": [
       "18.4160990712074"
      ],
      "text/markdown": [
       "18.4160990712074"
      ],
      "text/plain": [
       "[1] 18.4161"
      ]
     },
     "metadata": {},
     "output_type": "display_data"
    }
   ],
   "source": [
    "mean(my_srswor)\n",
    "mean(full_data$Pts)"
   ]
  },
  {
   "cell_type": "code",
   "execution_count": 37,
   "metadata": {},
   "outputs": [
    {
     "data": {
      "image/png": "[encoded data removed]",
      "text/plain": [
       "Plot with title \"points scored in my srswor\""
      ]
     },
     "metadata": {},
     "output_type": "display_data"
    }
   ],
   "source": [
    "# Plot distribution of points\n",
    "par(mfrow=c(1, 2))\n",
    "options(repr.plot.height=4)\n",
    "\n",
    "hist(points, breaks=seq(0, 55, by=2),\n",
    "    ylim=c(0, 300),\n",
    "    col='red',\n",
    "    main='points scored by all players')\n",
    "\n",
    "hist(my_srswor, breaks=seq(0, 55, by=2),\n",
    "    col='blue',\n",
    "    ylim=c(0, 5),\n",
    "    main='points scored in my srswor',\n",
    "    xlab='points')"
   ]
  },
  {
   "cell_type": "code",
   "execution_count": null,
   "metadata": {
    "collapsed": true
   },
   "outputs": [],
   "source": []
  }
 ],
 "metadata": {
  "kernelspec": {
   "display_name": "R",
   "language": "R",
   "name": "ir"
  },
  "language_info": {
   "codemirror_mode": "r",
   "file_extension": ".r",
   "mimetype": "text/x-r-source",
   "name": "R",
   "pygments_lexer": "r",
   "version": "3.4.1"
  }
 },
 "nbformat": 4,
 "nbformat_minor": 2
}
