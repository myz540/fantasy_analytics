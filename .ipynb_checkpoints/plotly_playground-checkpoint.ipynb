{
 "cells": [
  {
   "cell_type": "markdown",
   "metadata": {},
   "source": [
    "# CS544 Foundations of Analytics\n",
    "# Professor Suresh Kalathur\n",
    "# Final Project - Mike Zhong"
   ]
  },
  {
   "cell_type": "code",
   "execution_count": 1,
   "metadata": {
    "collapsed": true
   },
   "outputs": [],
   "source": [
    "import numpy as np\n",
    "import pandas as pd\n",
    "import matplotlib.pyplot as plt\n",
    "import plotly\n",
    "import plotly.plotly as py\n",
    "import plotly.graph_objs as go\n",
    "import plotly.figure_factory as ff"
   ]
  },
  {
   "cell_type": "markdown",
   "metadata": {},
   "source": [
    "## Part 5) \n",
    "## This notebook will walk through some of the additional analysis done using Plotly (in Python)"
   ]
  },
  {
   "cell_type": "code",
   "execution_count": 2,
   "metadata": {
    "collapsed": true
   },
   "outputs": [],
   "source": [
    "plotly.tools.set_credentials_file(username='myz540', api_key='MY9bR5aQvUHSQrtT2FmX')"
   ]
  },
  {
   "cell_type": "code",
   "execution_count": 3,
   "metadata": {
    "collapsed": true
   },
   "outputs": [],
   "source": [
    "__author__ = \"Mike Zhong\""
   ]
  },
  {
   "cell_type": "code",
   "execution_count": 4,
   "metadata": {
    "collapsed": true
   },
   "outputs": [],
   "source": [
    "df = pd.read_csv(\"./data/complete_data.csv\")"
   ]
  },
  {
   "cell_type": "code",
   "execution_count": 5,
   "metadata": {},
   "outputs": [
    {
     "name": "stdout",
     "output_type": "stream",
     "text": [
      "Index(['Player', 'Team', 'Opponent', 'Location', 'Pts', 'Att', 'Cmp', 'Yds',\n",
      "       'TD', 'Int', '2Pt', 'Rush Att', 'Rush Yds', 'Rush TD', 'Rush 2Pt',\n",
      "       'Rec', 'Rec Yds', 'Rec TD', 'Rec 2Pt', 'FL', 'Misc TD', 'Week',\n",
      "       'Position'],\n",
      "      dtype='object')\n"
     ]
    },
    {
     "data": {
      "text/html": [
       "<div>\n",
       "<style>\n",
       "    .dataframe thead tr:only-child th {\n",
       "        text-align: right;\n",
       "    }\n",
       "\n",
       "    .dataframe thead th {\n",
       "        text-align: left;\n",
       "    }\n",
       "\n",
       "    .dataframe tbody tr th {\n",
       "        vertical-align: top;\n",
       "    }\n",
       "</style>\n",
       "<table border=\"1\" class=\"dataframe\">\n",
       "  <thead>\n",
       "    <tr style=\"text-align: right;\">\n",
       "      <th></th>\n",
       "      <th>Player</th>\n",
       "      <th>Team</th>\n",
       "      <th>Opponent</th>\n",
       "      <th>Location</th>\n",
       "      <th>Pts</th>\n",
       "      <th>Att</th>\n",
       "      <th>Cmp</th>\n",
       "      <th>Yds</th>\n",
       "      <th>TD</th>\n",
       "      <th>Int</th>\n",
       "      <th>...</th>\n",
       "      <th>Rush TD</th>\n",
       "      <th>Rush 2Pt</th>\n",
       "      <th>Rec</th>\n",
       "      <th>Rec Yds</th>\n",
       "      <th>Rec TD</th>\n",
       "      <th>Rec 2Pt</th>\n",
       "      <th>FL</th>\n",
       "      <th>Misc TD</th>\n",
       "      <th>Week</th>\n",
       "      <th>Position</th>\n",
       "    </tr>\n",
       "  </thead>\n",
       "  <tbody>\n",
       "    <tr>\n",
       "      <th>0</th>\n",
       "      <td>Andrew Luck</td>\n",
       "      <td>IND</td>\n",
       "      <td>@DET</td>\n",
       "      <td>away</td>\n",
       "      <td>43</td>\n",
       "      <td>47</td>\n",
       "      <td>31</td>\n",
       "      <td>385</td>\n",
       "      <td>4</td>\n",
       "      <td>0</td>\n",
       "      <td>...</td>\n",
       "      <td>0</td>\n",
       "      <td>0</td>\n",
       "      <td>0</td>\n",
       "      <td>0</td>\n",
       "      <td>0</td>\n",
       "      <td>0</td>\n",
       "      <td>0</td>\n",
       "      <td>0</td>\n",
       "      <td>1</td>\n",
       "      <td>QB</td>\n",
       "    </tr>\n",
       "    <tr>\n",
       "      <th>1</th>\n",
       "      <td>Drew Brees</td>\n",
       "      <td>NO</td>\n",
       "      <td>@OAK</td>\n",
       "      <td>away</td>\n",
       "      <td>39</td>\n",
       "      <td>42</td>\n",
       "      <td>28</td>\n",
       "      <td>423</td>\n",
       "      <td>4</td>\n",
       "      <td>0</td>\n",
       "      <td>...</td>\n",
       "      <td>0</td>\n",
       "      <td>0</td>\n",
       "      <td>0</td>\n",
       "      <td>0</td>\n",
       "      <td>0</td>\n",
       "      <td>0</td>\n",
       "      <td>1</td>\n",
       "      <td>0</td>\n",
       "      <td>1</td>\n",
       "      <td>QB</td>\n",
       "    </tr>\n",
       "    <tr>\n",
       "      <th>2</th>\n",
       "      <td>AJ Green</td>\n",
       "      <td>CIN</td>\n",
       "      <td>NYJ</td>\n",
       "      <td>home</td>\n",
       "      <td>36</td>\n",
       "      <td>0</td>\n",
       "      <td>0</td>\n",
       "      <td>0</td>\n",
       "      <td>0</td>\n",
       "      <td>0</td>\n",
       "      <td>...</td>\n",
       "      <td>0</td>\n",
       "      <td>0</td>\n",
       "      <td>12</td>\n",
       "      <td>180</td>\n",
       "      <td>1</td>\n",
       "      <td>0</td>\n",
       "      <td>0</td>\n",
       "      <td>0</td>\n",
       "      <td>1</td>\n",
       "      <td>WR</td>\n",
       "    </tr>\n",
       "    <tr>\n",
       "      <th>3</th>\n",
       "      <td>DeAngelo Williams</td>\n",
       "      <td>PIT</td>\n",
       "      <td>WAS</td>\n",
       "      <td>home</td>\n",
       "      <td>34</td>\n",
       "      <td>0</td>\n",
       "      <td>0</td>\n",
       "      <td>0</td>\n",
       "      <td>0</td>\n",
       "      <td>0</td>\n",
       "      <td>...</td>\n",
       "      <td>2</td>\n",
       "      <td>0</td>\n",
       "      <td>6</td>\n",
       "      <td>28</td>\n",
       "      <td>0</td>\n",
       "      <td>0</td>\n",
       "      <td>0</td>\n",
       "      <td>0</td>\n",
       "      <td>1</td>\n",
       "      <td>RB</td>\n",
       "    </tr>\n",
       "    <tr>\n",
       "      <th>4</th>\n",
       "      <td>Jameis Winston</td>\n",
       "      <td>TB</td>\n",
       "      <td>ATL</td>\n",
       "      <td>home</td>\n",
       "      <td>33</td>\n",
       "      <td>32</td>\n",
       "      <td>23</td>\n",
       "      <td>281</td>\n",
       "      <td>4</td>\n",
       "      <td>1</td>\n",
       "      <td>...</td>\n",
       "      <td>0</td>\n",
       "      <td>0</td>\n",
       "      <td>0</td>\n",
       "      <td>0</td>\n",
       "      <td>0</td>\n",
       "      <td>0</td>\n",
       "      <td>0</td>\n",
       "      <td>0</td>\n",
       "      <td>1</td>\n",
       "      <td>QB</td>\n",
       "    </tr>\n",
       "  </tbody>\n",
       "</table>\n",
       "<p>5 rows × 23 columns</p>\n",
       "</div>"
      ],
      "text/plain": [
       "              Player Team Opponent Location  Pts  Att  Cmp  Yds  TD  Int  \\\n",
       "0        Andrew Luck  IND     @DET     away   43   47   31  385   4    0   \n",
       "1         Drew Brees   NO     @OAK     away   39   42   28  423   4    0   \n",
       "2           AJ Green  CIN      NYJ     home   36    0    0    0   0    0   \n",
       "3  DeAngelo Williams  PIT      WAS     home   34    0    0    0   0    0   \n",
       "4     Jameis Winston   TB      ATL     home   33   32   23  281   4    1   \n",
       "\n",
       "     ...     Rush TD  Rush 2Pt  Rec  Rec Yds  Rec TD  Rec 2Pt  FL  Misc TD  \\\n",
       "0    ...           0         0    0        0       0        0   0        0   \n",
       "1    ...           0         0    0        0       0        0   1        0   \n",
       "2    ...           0         0   12      180       1        0   0        0   \n",
       "3    ...           2         0    6       28       0        0   0        0   \n",
       "4    ...           0         0    0        0       0        0   0        0   \n",
       "\n",
       "   Week  Position  \n",
       "0     1        QB  \n",
       "1     1        QB  \n",
       "2     1        WR  \n",
       "3     1        RB  \n",
       "4     1        QB  \n",
       "\n",
       "[5 rows x 23 columns]"
      ]
     },
     "execution_count": 5,
     "metadata": {},
     "output_type": "execute_result"
    }
   ],
   "source": [
    "print(df.columns)\n",
    "df.head()"
   ]
  },
  {
   "cell_type": "markdown",
   "metadata": {},
   "source": [
    "## Box plots for each week"
   ]
  },
  {
   "cell_type": "code",
   "execution_count": 6,
   "metadata": {
    "collapsed": true
   },
   "outputs": [],
   "source": [
    "data = [go.Bar(x=df.Team, y=df.Yds)]"
   ]
  },
  {
   "cell_type": "code",
   "execution_count": 7,
   "metadata": {},
   "outputs": [
    {
     "data": {
      "text/html": [
       "<iframe id=\"igraph\" scrolling=\"no\" style=\"border:none;\" seamless=\"seamless\" src=\"https://plot.ly/~myz540/54.embed\" height=\"525px\" width=\"100%\"></iframe>"
      ],
      "text/plain": [
       "<plotly.tools.PlotlyDisplay object>"
      ]
     },
     "execution_count": 7,
     "metadata": {},
     "output_type": "execute_result"
    }
   ],
   "source": [
    "# show the distribution of points for each week\n",
    "traces = []\n",
    "colorscale = [[0, '#FAEE1C'], [18, '#F3558E'], [36, '#9C1DE7'], [54, '#581B98']]\n",
    "for week in range(1, 17):\n",
    "    trace = go.Box(\n",
    "        x = df[df.loc[:, 'Week'] == week].Pts,\n",
    "        name = \"Week: \" + str(week)\n",
    "            \n",
    "    )\n",
    "    traces.append(trace)\n",
    "\n",
    "py.iplot(traces, filename='point-distribution-all-weeks')"
   ]
  },
  {
   "cell_type": "markdown",
   "metadata": {},
   "source": [
    "## Often times, we want to use rate statistics to evaluate a player. Three such statistics come to mind:\n",
    "### Passing yards / attempt: (YPA) for quarterbacks\n",
    "### Receiving yards / reception: (YPR) for wide receivers\n",
    "### Rushing yards / attempt: (YPC) for running backs"
   ]
  },
  {
   "cell_type": "code",
   "execution_count": 8,
   "metadata": {},
   "outputs": [
    {
     "data": {
      "text/plain": [
       "0     8.191489\n",
       "1    10.071429\n",
       "2          NaN\n",
       "3          NaN\n",
       "4     8.781250\n",
       "Name: YPA, dtype: float64"
      ]
     },
     "execution_count": 8,
     "metadata": {},
     "output_type": "execute_result"
    }
   ],
   "source": [
    "ypa = df.Yds / df.Att\n",
    "ypa.name = 'YPA'\n",
    "ypa.head()"
   ]
  },
  {
   "cell_type": "code",
   "execution_count": 9,
   "metadata": {},
   "outputs": [
    {
     "data": {
      "text/plain": [
       "0          NaN\n",
       "1          NaN\n",
       "2    15.000000\n",
       "3     4.666667\n",
       "4          NaN\n",
       "Name: YPR, dtype: float64"
      ]
     },
     "execution_count": 9,
     "metadata": {},
     "output_type": "execute_result"
    }
   ],
   "source": [
    "ypr = df.loc[:, 'Rec Yds'] / df.loc[:, 'Rec']\n",
    "ypr.name = 'YPR'\n",
    "ypr.head()"
   ]
  },
  {
   "cell_type": "code",
   "execution_count": 10,
   "metadata": {},
   "outputs": [
    {
     "data": {
      "text/plain": [
       "0    7.00\n",
       "1    2.50\n",
       "2     NaN\n",
       "3    5.50\n",
       "4    0.75\n",
       "Name: YPC, dtype: float64"
      ]
     },
     "execution_count": 10,
     "metadata": {},
     "output_type": "execute_result"
    }
   ],
   "source": [
    "ypc = df.loc[:, 'Rush Yds'] / df.loc[:, 'Rush Att']\n",
    "ypc.name = 'YPC'\n",
    "ypc.head()"
   ]
  },
  {
   "cell_type": "code",
   "execution_count": 11,
   "metadata": {
    "collapsed": true
   },
   "outputs": [],
   "source": [
    "# let's also compute completion percentage for QBs\n",
    "comp_pct = df.loc[:, 'Cmp'] / df.loc[:, 'Att']\n",
    "comp_pct.name = 'Completion Percentage'"
   ]
  },
  {
   "cell_type": "code",
   "execution_count": 12,
   "metadata": {
    "collapsed": true
   },
   "outputs": [],
   "source": [
    "augmented_df = pd.concat([df, ypa, comp_pct, ypr, ypc], axis=1)"
   ]
  },
  {
   "cell_type": "code",
   "execution_count": 13,
   "metadata": {},
   "outputs": [
    {
     "data": {
      "text/html": [
       "<div>\n",
       "<style>\n",
       "    .dataframe thead tr:only-child th {\n",
       "        text-align: right;\n",
       "    }\n",
       "\n",
       "    .dataframe thead th {\n",
       "        text-align: left;\n",
       "    }\n",
       "\n",
       "    .dataframe tbody tr th {\n",
       "        vertical-align: top;\n",
       "    }\n",
       "</style>\n",
       "<table border=\"1\" class=\"dataframe\">\n",
       "  <thead>\n",
       "    <tr style=\"text-align: right;\">\n",
       "      <th></th>\n",
       "      <th>Player</th>\n",
       "      <th>Team</th>\n",
       "      <th>Opponent</th>\n",
       "      <th>Location</th>\n",
       "      <th>Pts</th>\n",
       "      <th>Att</th>\n",
       "      <th>Cmp</th>\n",
       "      <th>Yds</th>\n",
       "      <th>TD</th>\n",
       "      <th>Int</th>\n",
       "      <th>...</th>\n",
       "      <th>Rec TD</th>\n",
       "      <th>Rec 2Pt</th>\n",
       "      <th>FL</th>\n",
       "      <th>Misc TD</th>\n",
       "      <th>Week</th>\n",
       "      <th>Position</th>\n",
       "      <th>YPA</th>\n",
       "      <th>Completion Percentage</th>\n",
       "      <th>YPR</th>\n",
       "      <th>YPC</th>\n",
       "    </tr>\n",
       "  </thead>\n",
       "  <tbody>\n",
       "    <tr>\n",
       "      <th>0</th>\n",
       "      <td>Andrew Luck</td>\n",
       "      <td>IND</td>\n",
       "      <td>@DET</td>\n",
       "      <td>away</td>\n",
       "      <td>43</td>\n",
       "      <td>47</td>\n",
       "      <td>31</td>\n",
       "      <td>385</td>\n",
       "      <td>4</td>\n",
       "      <td>0</td>\n",
       "      <td>...</td>\n",
       "      <td>0</td>\n",
       "      <td>0</td>\n",
       "      <td>0</td>\n",
       "      <td>0</td>\n",
       "      <td>1</td>\n",
       "      <td>QB</td>\n",
       "      <td>8.191489</td>\n",
       "      <td>0.659574</td>\n",
       "      <td>NaN</td>\n",
       "      <td>7.00</td>\n",
       "    </tr>\n",
       "    <tr>\n",
       "      <th>1</th>\n",
       "      <td>Drew Brees</td>\n",
       "      <td>NO</td>\n",
       "      <td>@OAK</td>\n",
       "      <td>away</td>\n",
       "      <td>39</td>\n",
       "      <td>42</td>\n",
       "      <td>28</td>\n",
       "      <td>423</td>\n",
       "      <td>4</td>\n",
       "      <td>0</td>\n",
       "      <td>...</td>\n",
       "      <td>0</td>\n",
       "      <td>0</td>\n",
       "      <td>1</td>\n",
       "      <td>0</td>\n",
       "      <td>1</td>\n",
       "      <td>QB</td>\n",
       "      <td>10.071429</td>\n",
       "      <td>0.666667</td>\n",
       "      <td>NaN</td>\n",
       "      <td>2.50</td>\n",
       "    </tr>\n",
       "    <tr>\n",
       "      <th>2</th>\n",
       "      <td>AJ Green</td>\n",
       "      <td>CIN</td>\n",
       "      <td>NYJ</td>\n",
       "      <td>home</td>\n",
       "      <td>36</td>\n",
       "      <td>0</td>\n",
       "      <td>0</td>\n",
       "      <td>0</td>\n",
       "      <td>0</td>\n",
       "      <td>0</td>\n",
       "      <td>...</td>\n",
       "      <td>1</td>\n",
       "      <td>0</td>\n",
       "      <td>0</td>\n",
       "      <td>0</td>\n",
       "      <td>1</td>\n",
       "      <td>WR</td>\n",
       "      <td>NaN</td>\n",
       "      <td>NaN</td>\n",
       "      <td>15.000000</td>\n",
       "      <td>NaN</td>\n",
       "    </tr>\n",
       "    <tr>\n",
       "      <th>3</th>\n",
       "      <td>DeAngelo Williams</td>\n",
       "      <td>PIT</td>\n",
       "      <td>WAS</td>\n",
       "      <td>home</td>\n",
       "      <td>34</td>\n",
       "      <td>0</td>\n",
       "      <td>0</td>\n",
       "      <td>0</td>\n",
       "      <td>0</td>\n",
       "      <td>0</td>\n",
       "      <td>...</td>\n",
       "      <td>0</td>\n",
       "      <td>0</td>\n",
       "      <td>0</td>\n",
       "      <td>0</td>\n",
       "      <td>1</td>\n",
       "      <td>RB</td>\n",
       "      <td>NaN</td>\n",
       "      <td>NaN</td>\n",
       "      <td>4.666667</td>\n",
       "      <td>5.50</td>\n",
       "    </tr>\n",
       "    <tr>\n",
       "      <th>4</th>\n",
       "      <td>Jameis Winston</td>\n",
       "      <td>TB</td>\n",
       "      <td>ATL</td>\n",
       "      <td>home</td>\n",
       "      <td>33</td>\n",
       "      <td>32</td>\n",
       "      <td>23</td>\n",
       "      <td>281</td>\n",
       "      <td>4</td>\n",
       "      <td>1</td>\n",
       "      <td>...</td>\n",
       "      <td>0</td>\n",
       "      <td>0</td>\n",
       "      <td>0</td>\n",
       "      <td>0</td>\n",
       "      <td>1</td>\n",
       "      <td>QB</td>\n",
       "      <td>8.781250</td>\n",
       "      <td>0.718750</td>\n",
       "      <td>NaN</td>\n",
       "      <td>0.75</td>\n",
       "    </tr>\n",
       "  </tbody>\n",
       "</table>\n",
       "<p>5 rows × 27 columns</p>\n",
       "</div>"
      ],
      "text/plain": [
       "              Player Team Opponent Location  Pts  Att  Cmp  Yds  TD  Int  \\\n",
       "0        Andrew Luck  IND     @DET     away   43   47   31  385   4    0   \n",
       "1         Drew Brees   NO     @OAK     away   39   42   28  423   4    0   \n",
       "2           AJ Green  CIN      NYJ     home   36    0    0    0   0    0   \n",
       "3  DeAngelo Williams  PIT      WAS     home   34    0    0    0   0    0   \n",
       "4     Jameis Winston   TB      ATL     home   33   32   23  281   4    1   \n",
       "\n",
       "   ...   Rec TD  Rec 2Pt  FL  Misc TD  Week  Position        YPA  \\\n",
       "0  ...        0        0   0        0     1        QB   8.191489   \n",
       "1  ...        0        0   1        0     1        QB  10.071429   \n",
       "2  ...        1        0   0        0     1        WR        NaN   \n",
       "3  ...        0        0   0        0     1        RB        NaN   \n",
       "4  ...        0        0   0        0     1        QB   8.781250   \n",
       "\n",
       "   Completion Percentage        YPR   YPC  \n",
       "0               0.659574        NaN  7.00  \n",
       "1               0.666667        NaN  2.50  \n",
       "2                    NaN  15.000000   NaN  \n",
       "3                    NaN   4.666667  5.50  \n",
       "4               0.718750        NaN  0.75  \n",
       "\n",
       "[5 rows x 27 columns]"
      ]
     },
     "execution_count": 13,
     "metadata": {},
     "output_type": "execute_result"
    }
   ],
   "source": [
    "augmented_df.head()"
   ]
  },
  {
   "cell_type": "code",
   "execution_count": 14,
   "metadata": {
    "collapsed": true
   },
   "outputs": [],
   "source": [
    "qbs = augmented_df[augmented_df.loc[:, 'Position'] == 'QB']\n",
    "wrs = augmented_df[augmented_df.loc[:, 'Position'] == 'WR']\n",
    "rbs = augmented_df[augmented_df.loc[:, 'Position'] == 'RB']"
   ]
  },
  {
   "cell_type": "code",
   "execution_count": 15,
   "metadata": {},
   "outputs": [
    {
     "data": {
      "text/html": [
       "<iframe id=\"igraph\" scrolling=\"no\" style=\"border:none;\" seamless=\"seamless\" src=\"https://plot.ly/~myz540/56.embed\" height=\"525px\" width=\"100%\"></iframe>"
      ],
      "text/plain": [
       "<plotly.tools.PlotlyDisplay object>"
      ]
     },
     "execution_count": 15,
     "metadata": {},
     "output_type": "execute_result"
    }
   ],
   "source": [
    "trace1 = go.Scatter(\n",
    "    x = qbs.loc[:, 'Completion Percentage'],\n",
    "    y = qbs.loc[:, 'YPA'],\n",
    "    mode = 'markers',\n",
    "    marker = {\n",
    "        'color': qbs.loc[:, 'Pts']\n",
    "    },\n",
    "    text = qbs.loc[:, 'Player']\n",
    ")\n",
    "layout = go.Layout(\n",
    "    title = 'Quarterback efficiency metrics',\n",
    "    hovermode = 'closest',\n",
    "    xaxis = dict(title='Completion Percentage'),\n",
    "    yaxis = dict(title='Yards per Attempt (YPA)'),\n",
    ")\n",
    "fig = go.Figure(data=[trace1], layout=layout)\n",
    "py.iplot(fig, filename='qb-efficiency')"
   ]
  },
  {
   "cell_type": "code",
   "execution_count": 16,
   "metadata": {},
   "outputs": [
    {
     "data": {
      "text/html": [
       "<iframe id=\"igraph\" scrolling=\"no\" style=\"border:none;\" seamless=\"seamless\" src=\"https://plot.ly/~myz540/58.embed\" height=\"525px\" width=\"100%\"></iframe>"
      ],
      "text/plain": [
       "<plotly.tools.PlotlyDisplay object>"
      ]
     },
     "execution_count": 16,
     "metadata": {},
     "output_type": "execute_result"
    }
   ],
   "source": [
    "trace2 = go.Scatter(\n",
    "    y = rbs.loc[:, 'YPC'],\n",
    "    x = rbs.loc[:, 'Rush Att'],\n",
    "    mode = 'markers',\n",
    "    marker = {\n",
    "        'color': rbs.loc[:, 'Pts']\n",
    "    },\n",
    "    text = rbs.loc[:, 'Player']\n",
    ")\n",
    "layout = go.Layout(\n",
    "    title = 'Runningback efficiency metrics',\n",
    "    hovermode = 'closest',\n",
    "    xaxis = dict(title='Rushing Attempts (Carries)'),\n",
    "    yaxis = dict(title='Yards per Carry (YPC)'),\n",
    ")\n",
    "fig = go.Figure(data=[trace2], layout=layout)\n",
    "py.iplot(fig, filename='rb-efficiency')"
   ]
  },
  {
   "cell_type": "code",
   "execution_count": 17,
   "metadata": {},
   "outputs": [
    {
     "data": {
      "text/html": [
       "<iframe id=\"igraph\" scrolling=\"no\" style=\"border:none;\" seamless=\"seamless\" src=\"https://plot.ly/~myz540/60.embed\" height=\"525px\" width=\"100%\"></iframe>"
      ],
      "text/plain": [
       "<plotly.tools.PlotlyDisplay object>"
      ]
     },
     "execution_count": 17,
     "metadata": {},
     "output_type": "execute_result"
    }
   ],
   "source": [
    "trace3 = go.Scatter(\n",
    "    y = wrs.loc[:, 'YPR'],\n",
    "    x = wrs.loc[:, 'Rec'],\n",
    "    mode = 'markers',\n",
    "    marker = {\n",
    "        'color': wrs.loc[:, 'Pts']\n",
    "    },\n",
    "    text = wrs.loc[:, 'Player']\n",
    ")\n",
    "layout = go.Layout(\n",
    "    title = 'Wide receiver efficiency metrics',\n",
    "    hovermode = 'closest',\n",
    "    xaxis = dict(title='Receptions'),\n",
    "    yaxis = dict(title='Yards per Reception (YPR)'),\n",
    ")\n",
    "fig = go.Figure(data=[trace3], layout=layout)\n",
    "py.iplot(fig, filename='wr-efficiency')"
   ]
  },
  {
   "cell_type": "markdown",
   "metadata": {},
   "source": [
    "## Let's analyze a few players and see how their performances stack up over a season\n",
    "### Player 1: Antonio Brown\n",
    "### Player 2: David Johnson\n",
    "### Player 3: Rob Gronkowski\n",
    "### Player 4: Aaron Rodgers"
   ]
  },
  {
   "cell_type": "code",
   "execution_count": 18,
   "metadata": {
    "collapsed": true
   },
   "outputs": [],
   "source": [
    "ab = augmented_df[augmented_df.loc[:, 'Player'] == 'Antonio Brown']\n",
    "dj = augmented_df[augmented_df.loc[:, 'Player'] == 'David Johnson']\n",
    "rg = augmented_df[augmented_df.loc[:, 'Player'] == 'Rob Gronkowski']\n",
    "ar = augmented_df[augmented_df.loc[:, 'Player'] == 'Aaron Rodgers']"
   ]
  },
  {
   "cell_type": "code",
   "execution_count": 19,
   "metadata": {},
   "outputs": [
    {
     "data": {
      "text/html": [
       "<iframe id=\"igraph\" scrolling=\"no\" style=\"border:none;\" seamless=\"seamless\" src=\"https://plot.ly/~myz540/66.embed\" height=\"525px\" width=\"100%\"></iframe>"
      ],
      "text/plain": [
       "<plotly.tools.PlotlyDisplay object>"
      ]
     },
     "execution_count": 19,
     "metadata": {},
     "output_type": "execute_result"
    }
   ],
   "source": [
    "trace1 = go.Scatter(\n",
    "    x = ab.loc[:, 'Week'],\n",
    "    y = ab.loc[:, 'Pts'],\n",
    "    mode = 'markers',\n",
    "    marker = dict(color='red'),\n",
    "    name = 'Antonio Brown',\n",
    ")\n",
    "trace2 = go.Scatter(\n",
    "    x = dj.loc[:, 'Week'],\n",
    "    y = dj.loc[:, 'Pts'],\n",
    "    mode = 'markers',\n",
    "    marker = dict(color='blue'),\n",
    "    name = 'David Johnson'\n",
    ")\n",
    "trace3 = go.Scatter(\n",
    "    x = rg.loc[:, 'Week'],\n",
    "    y = rg.loc[:, 'Pts'],\n",
    "    mode = 'markers',\n",
    "    marker = dict(color='green'),\n",
    "    name = 'Gronk',\n",
    ")\n",
    "trace4 = go.Scatter(\n",
    "    x = ar.loc[:, 'Week'],\n",
    "    y = ar.loc[:, 'Pts'],\n",
    "    mode = 'markers',\n",
    "    marker = dict(color='black'),\n",
    "    name = 'Aaron Rodgers',\n",
    ")\n",
    "\n",
    "\n",
    "py.iplot([trace1, trace2, trace3, trace4], filename='4-players')"
   ]
  },
  {
   "cell_type": "markdown",
   "metadata": {},
   "source": [
    "### Consistency is a valuable trend in fantasy, two players can achieve the same cumulative score over a season but the distribution of their weekly performances could vary drastically let's try to visualize this"
   ]
  },
  {
   "cell_type": "code",
   "execution_count": 20,
   "metadata": {},
   "outputs": [
    {
     "data": {
      "text/plain": [
       "0          Andrew Luck\n",
       "1           Drew Brees\n",
       "2             AJ Green\n",
       "3    DeAngelo Williams\n",
       "4       Jameis Winston\n",
       "Name: Player, dtype: object"
      ]
     },
     "execution_count": 20,
     "metadata": {},
     "output_type": "execute_result"
    }
   ],
   "source": [
    "players = augmented_df.loc[:, 'Player'].drop_duplicates()\n",
    "players.head()"
   ]
  },
  {
   "cell_type": "code",
   "execution_count": 21,
   "metadata": {
    "collapsed": true
   },
   "outputs": [],
   "source": [
    "# To take into account that some players do not show up for all 16 weeks, let's use points/game as our metric\n",
    "temp = []\n",
    "for player in players.values:\n",
    "    scores = augmented_df[augmented_df.loc[:, 'Player'] == player].loc[:, 'Pts']\n",
    "    total_points = sum(scores.values)\n",
    "    games_played = len(scores)\n",
    "    pts_per_game = total_points / games_played\n",
    "    sd = np.std(scores.values)\n",
    "    temp.append((player, pts_per_game, sd, total_points, games_played))"
   ]
  },
  {
   "cell_type": "code",
   "execution_count": 22,
   "metadata": {},
   "outputs": [
    {
     "data": {
      "text/html": [
       "<div>\n",
       "<style>\n",
       "    .dataframe thead tr:only-child th {\n",
       "        text-align: right;\n",
       "    }\n",
       "\n",
       "    .dataframe thead th {\n",
       "        text-align: left;\n",
       "    }\n",
       "\n",
       "    .dataframe tbody tr th {\n",
       "        vertical-align: top;\n",
       "    }\n",
       "</style>\n",
       "<table border=\"1\" class=\"dataframe\">\n",
       "  <thead>\n",
       "    <tr style=\"text-align: right;\">\n",
       "      <th></th>\n",
       "      <th>Player</th>\n",
       "      <th>Pts Per Game</th>\n",
       "      <th>Standard Deviation</th>\n",
       "      <th>Total Points</th>\n",
       "      <th>Games Played</th>\n",
       "    </tr>\n",
       "  </thead>\n",
       "  <tbody>\n",
       "    <tr>\n",
       "      <th>0</th>\n",
       "      <td>Andrew Luck</td>\n",
       "      <td>24.428571</td>\n",
       "      <td>8.286946</td>\n",
       "      <td>342</td>\n",
       "      <td>14</td>\n",
       "    </tr>\n",
       "    <tr>\n",
       "      <th>1</th>\n",
       "      <td>Drew Brees</td>\n",
       "      <td>28.153846</td>\n",
       "      <td>9.045578</td>\n",
       "      <td>366</td>\n",
       "      <td>13</td>\n",
       "    </tr>\n",
       "    <tr>\n",
       "      <th>2</th>\n",
       "      <td>AJ Green</td>\n",
       "      <td>24.000000</td>\n",
       "      <td>8.246211</td>\n",
       "      <td>168</td>\n",
       "      <td>7</td>\n",
       "    </tr>\n",
       "    <tr>\n",
       "      <th>3</th>\n",
       "      <td>DeAngelo Williams</td>\n",
       "      <td>28.000000</td>\n",
       "      <td>6.000000</td>\n",
       "      <td>56</td>\n",
       "      <td>2</td>\n",
       "    </tr>\n",
       "    <tr>\n",
       "      <th>4</th>\n",
       "      <td>Jameis Winston</td>\n",
       "      <td>22.416667</td>\n",
       "      <td>5.865980</td>\n",
       "      <td>269</td>\n",
       "      <td>12</td>\n",
       "    </tr>\n",
       "  </tbody>\n",
       "</table>\n",
       "</div>"
      ],
      "text/plain": [
       "              Player  Pts Per Game  Standard Deviation  Total Points  \\\n",
       "0        Andrew Luck     24.428571            8.286946           342   \n",
       "1         Drew Brees     28.153846            9.045578           366   \n",
       "2           AJ Green     24.000000            8.246211           168   \n",
       "3  DeAngelo Williams     28.000000            6.000000            56   \n",
       "4     Jameis Winston     22.416667            5.865980           269   \n",
       "\n",
       "   Games Played  \n",
       "0            14  \n",
       "1            13  \n",
       "2             7  \n",
       "3             2  \n",
       "4            12  "
      ]
     },
     "execution_count": 22,
     "metadata": {},
     "output_type": "execute_result"
    }
   ],
   "source": [
    "# make a new dataframe with only this info\n",
    "df1 = pd.DataFrame(temp,\n",
    "                  columns=['Player', 'Pts Per Game', 'Standard Deviation', 'Total Points', 'Games Played'])\n",
    "df1.head()"
   ]
  },
  {
   "cell_type": "code",
   "execution_count": 23,
   "metadata": {},
   "outputs": [
    {
     "data": {
      "text/html": [
       "<iframe id=\"igraph\" scrolling=\"no\" style=\"border:none;\" seamless=\"seamless\" src=\"https://plot.ly/~myz540/64.embed\" height=\"525px\" width=\"100%\"></iframe>"
      ],
      "text/plain": [
       "<plotly.tools.PlotlyDisplay object>"
      ]
     },
     "execution_count": 23,
     "metadata": {},
     "output_type": "execute_result"
    }
   ],
   "source": [
    "trace = go.Scatter(\n",
    "    x = df1.loc[:, 'Pts Per Game'],\n",
    "    y = df1.loc[:, 'Standard Deviation'],\n",
    "    mode = 'markers',\n",
    "    marker = {\n",
    "        'color': df1.loc[:, 'Games Played']\n",
    "    },\n",
    "    text = df1.loc[:, 'Player']\n",
    ")\n",
    "layout = go.Layout(\n",
    "    title = 'Consistency Kings',\n",
    "    hovermode = 'closest',\n",
    "    xaxis = dict(title='Pts Per Game'),\n",
    "    yaxis = dict(title='Standard Deviation of Points'),\n",
    ")\n",
    "fig = go.Figure(data=[trace], layout=layout)\n",
    "py.iplot(fig, filename='consistency kings')"
   ]
  },
  {
   "cell_type": "markdown",
   "metadata": {
    "collapsed": true
   },
   "source": [
    "## Points can come from yardage or TDs. TDs are largely considered random on a week to week basis, but yardage tends to be more predictable. Let's analyze yardage vs. TDs."
   ]
  },
  {
   "cell_type": "code",
   "execution_count": 24,
   "metadata": {
    "collapsed": true
   },
   "outputs": [],
   "source": [
    "wrs = df[df.loc[:, 'Position'] == 'WR'].loc[:, 'Player'].drop_duplicates()\n",
    "rbs = df[df.loc[:, 'Position'] == 'RB'].loc[:, 'Player'].drop_duplicates()\n",
    "qbs = df[df.loc[:, 'Position'] == 'QB'].loc[:, 'Player'].drop_duplicates()"
   ]
  },
  {
   "cell_type": "code",
   "execution_count": 25,
   "metadata": {},
   "outputs": [
    {
     "data": {
      "text/html": [
       "<iframe id=\"igraph\" scrolling=\"no\" style=\"border:none;\" seamless=\"seamless\" src=\"https://plot.ly/~myz540/74.embed\" height=\"525px\" width=\"100%\"></iframe>"
      ],
      "text/plain": [
       "<plotly.tools.PlotlyDisplay object>"
      ]
     },
     "execution_count": 25,
     "metadata": {},
     "output_type": "execute_result"
    }
   ],
   "source": [
    "qb_entry = []\n",
    "\n",
    "for player in qbs:\n",
    "    tot_points = sum(df[df.loc[:, 'Player'] == player].loc[:, 'Pts'])\n",
    "    pts_from_tds = 6 * sum(df[df.loc[:, 'Player'] == player].loc[:, 'TD'])\n",
    "    pts_from_yds = 0.025 * sum(df[df.loc[:, 'Player'] == player].loc[:, 'Yds'])\n",
    "    qb_entry.append((player, tot_points, pts_from_tds, pts_from_yds))\n",
    "    \n",
    "df2 = pd.DataFrame(qb_entry,\n",
    "                  columns = ['Player', 'Total Points', 'Points from TDs', 'Points from Yds'])    \n",
    "    \n",
    "trace = go.Scatter3d(\n",
    "    x = df2.loc[:, 'Points from TDs'],\n",
    "    y = df2.loc[:, 'Points from Yds'],\n",
    "    z = df2.loc[:, 'Total Points'],\n",
    "    mode = 'markers',\n",
    "    marker = dict(color='red', size=4),\n",
    "    text = df2.loc[:, 'Player'],\n",
    ")\n",
    "                           \n",
    "layout = go.Layout(\n",
    "    title = 'QB point source',\n",
    "    hovermode = 'closest',\n",
    ")\n",
    "\n",
    "fig = go.Figure(data=[trace], layout=layout)\n",
    "py.iplot(fig, filename='qb-point-source')"
   ]
  },
  {
   "cell_type": "code",
   "execution_count": 27,
   "metadata": {},
   "outputs": [
    {
     "data": {
      "text/html": [
       "<iframe id=\"igraph\" scrolling=\"no\" style=\"border:none;\" seamless=\"seamless\" src=\"https://plot.ly/~myz540/76.embed\" height=\"525px\" width=\"100%\"></iframe>"
      ],
      "text/plain": [
       "<plotly.tools.PlotlyDisplay object>"
      ]
     },
     "execution_count": 27,
     "metadata": {},
     "output_type": "execute_result"
    }
   ],
   "source": [
    "wr_entry = []\n",
    "\n",
    "for player in wrs:\n",
    "    tot_points = sum(df[df.loc[:, 'Player'] == player].loc[:, 'Pts'])\n",
    "    pts_from_tds = 6 * sum(df[df.loc[:, 'Player'] == player].loc[:, 'Rec TD'])\n",
    "    pts_from_yds = 0.1 * sum(df[df.loc[:, 'Player'] == player].loc[:, 'Rec Yds'])\n",
    "    wr_entry.append((player, tot_points, pts_from_tds, pts_from_yds))\n",
    "    \n",
    "df2 = pd.DataFrame(wr_entry,\n",
    "                  columns = ['Player', 'Total Points', 'Points from TDs', 'Points from Yds'])    \n",
    "    \n",
    "trace = go.Scatter3d(\n",
    "    x = df2.loc[:, 'Points from TDs'],\n",
    "    y = df2.loc[:, 'Points from Yds'],\n",
    "    z = df2.loc[:, 'Total Points'],\n",
    "    mode = 'markers',\n",
    "    marker = dict(color='red', size=4),\n",
    "    text = df2.loc[:, 'Player'],\n",
    ")\n",
    "                           \n",
    "layout = go.Layout(\n",
    "    title = 'WR point source',\n",
    "    hovermode = 'closest',\n",
    ")\n",
    "\n",
    "fig = go.Figure(data=[trace], layout=layout)\n",
    "py.iplot(fig, filename='wr-point-source')"
   ]
  },
  {
   "cell_type": "code",
   "execution_count": 29,
   "metadata": {},
   "outputs": [
    {
     "data": {
      "text/html": [
       "<iframe id=\"igraph\" scrolling=\"no\" style=\"border:none;\" seamless=\"seamless\" src=\"https://plot.ly/~myz540/78.embed\" height=\"525px\" width=\"100%\"></iframe>"
      ],
      "text/plain": [
       "<plotly.tools.PlotlyDisplay object>"
      ]
     },
     "execution_count": 29,
     "metadata": {},
     "output_type": "execute_result"
    }
   ],
   "source": [
    "rb_entry = []\n",
    "\n",
    "for player in rbs:\n",
    "    tot_points = sum(df[df.loc[:, 'Player'] == player].loc[:, 'Pts'])\n",
    "    pts_from_tds = 6 * sum(df[df.loc[:, 'Player'] == player].loc[:, 'Rush TD'])\n",
    "    pts_from_yds = 0.1 * sum(df[df.loc[:, 'Player'] == player].loc[:, 'Rush Yds'])\n",
    "    rb_entry.append((player, tot_points, pts_from_tds, pts_from_yds))\n",
    "    \n",
    "df2 = pd.DataFrame(rb_entry,\n",
    "                  columns = ['Player', 'Total Points', 'Points from TDs', 'Points from Yds'])    \n",
    "    \n",
    "trace = go.Scatter3d(\n",
    "    x = df2.loc[:, 'Points from TDs'],\n",
    "    y = df2.loc[:, 'Points from Yds'],\n",
    "    z = df2.loc[:, 'Total Points'],\n",
    "    mode = 'markers',\n",
    "    marker = dict(color='red', size=4),\n",
    "    text = df2.loc[:, 'Player'],\n",
    ")\n",
    "                           \n",
    "layout = go.Layout(\n",
    "    title = 'RB point source',\n",
    "    hovermode = 'closest',\n",
    ")\n",
    "\n",
    "fig = go.Figure(data=[trace], layout=layout)\n",
    "py.iplot(fig, filename='rb-point-source')"
   ]
  },
  {
   "cell_type": "code",
   "execution_count": null,
   "metadata": {
    "collapsed": true
   },
   "outputs": [],
   "source": []
  }
 ],
 "metadata": {
  "kernelspec": {
   "display_name": "Python 3",
   "language": "python",
   "name": "python3"
  },
  "language_info": {
   "codemirror_mode": {
    "name": "ipython",
    "version": 3
   },
   "file_extension": ".py",
   "mimetype": "text/x-python",
   "name": "python",
   "nbconvert_exporter": "python",
   "pygments_lexer": "ipython3",
   "version": "3.6.0"
  }
 },
 "nbformat": 4,
 "nbformat_minor": 2
}
