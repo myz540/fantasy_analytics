{
 "cells": [
  {
   "cell_type": "code",
   "execution_count": 59,
   "metadata": {
    "collapsed": true
   },
   "outputs": [],
   "source": [
    "from bs4 import BeautifulSoup\n",
    "import requests\n",
    "import os\n",
    "import lxml\n"
   ]
  },
  {
   "cell_type": "code",
   "execution_count": 60,
   "metadata": {},
   "outputs": [
    {
     "name": "stdout",
     "output_type": "stream",
     "text": [
      "C:\\Users\\Mike Zhong\\Dropbox\\dev\\fantasy_analytics\n"
     ]
    }
   ],
   "source": [
    "print(os.getcwd())"
   ]
  },
  {
   "cell_type": "code",
   "execution_count": 61,
   "metadata": {},
   "outputs": [
    {
     "name": "stdout",
     "output_type": "stream",
     "text": [
      "<class 'requests.models.Response'>\n",
      "<Response [200]>\n",
      "<!DOCTYPE html>\n",
      "<html lang=\"en\">\n",
      "<head>\n",
      "<meta charset=\"utf-8\" />\n",
      "<meta http-equiv=\"X-UA-Compatible\" content=\"IE=edge\" />\n",
      "<meta name=\"viewport\" content=\"initial-scale=1.0, width=device-width\" />\n",
      "<title>2016 Fantasy Football Statistics | The Football Database</title>\n",
      "<meta name=\"description\" content=\"View week 1 QB,RB,WR,TE fantasy football stats and statistics for the 2016 NFL season. Included are \n"
     ]
    }
   ],
   "source": [
    "my_url = \"http://www.footballdb.com/fantasy-football/index.html?pos=QB%2CRB%2CWR%2CTE&yr=2016&wk=1&rules=1\"\n",
    "\n",
    "html_page = requests.get(my_url)\n",
    "\n",
    "if html_page.status_code != 200:\n",
    "    print(\"Non-200 response code returned, exiting...\")\n",
    "    exit(1)\n",
    "\n",
    "print(type(html_page))\n",
    "print(html_page)\n",
    "print(html_page.text[:400])\n",
    "\n",
    "with open(\"./html/sample_html.html\", 'w+') as fp:\n",
    "    fp.write(html_page.text)"
   ]
  },
  {
   "cell_type": "code",
   "execution_count": 62,
   "metadata": {},
   "outputs": [
    {
     "name": "stdout",
     "output_type": "stream",
     "text": [
      "<class 'bs4.BeautifulSoup'>\n",
      "7 <class 'bs4.element.ResultSet'>\n"
     ]
    }
   ],
   "source": [
    "soup = BeautifulSoup(html_page.text, 'lxml')\n",
    "\n",
    "print(type(soup))\n",
    "\n",
    "all_tables = soup.find_all(\"table\")\n",
    "print(len(all_tables), type(all_tables))"
   ]
  },
  {
   "cell_type": "code",
   "execution_count": 73,
   "metadata": {},
   "outputs": [
    {
     "name": "stdout",
     "output_type": "stream",
     "text": [
      "102 <class 'bs4.element.ResultSet'>\n",
      "19 <class 'bs4.element.ResultSet'>\n"
     ]
    }
   ],
   "source": [
    "table = all_tables[0]\n",
    "trs = table.find_all(\"tr\")\n",
    "print(len(trs), type(trs))\n",
    "\n",
    "tr = trs[1]\n",
    "ths = tr.find_all(\"th\")\n",
    "print(len(ths), type(ths))"
   ]
  },
  {
   "cell_type": "code",
   "execution_count": 98,
   "metadata": {},
   "outputs": [
    {
     "name": "stdout",
     "output_type": "stream",
     "text": [
      "19 <class 'list'>\n",
      "19\n"
     ]
    }
   ],
   "source": [
    "rows = []\n",
    "\n",
    "headers = trs[1].text.strip().split('\\n')\n",
    "ncols = len(headers)\n",
    "print(len(headers), type(headers))\n",
    "\n",
    "tds = trs[2].find_all('td')\n",
    "print(len(tds))"
   ]
  },
  {
   "cell_type": "code",
   "execution_count": 120,
   "metadata": {
    "scrolled": true
   },
   "outputs": [
    {
     "name": "stdout",
     "output_type": "stream",
     "text": [
      "24700\n",
      "(1300, 19)\n",
      "                Player   Opp Pts* Att Cmp  Yds TD Int 2Pt Att Yds TD 2Pt Rec  \\\n",
      "1      Drew Brees, NOD   Oak   39  42  28  423  4   0   0   2   5  0   0   0   \n",
      "2  Jameis Winston, TBJ  @Atl   33  32  23  281  4   1   0   4   3  0   0   0   \n",
      "\n",
      "  Yds TD 2Pt FL TD  \n",
      "1   0  0   0  1  0  \n",
      "2   0  0   0  0  0   <class 'pandas.core.frame.DataFrame'>\n"
     ]
    }
   ],
   "source": [
    "import pandas as pd\n",
    "for tr in trs[2:]:\n",
    "    \n",
    "    row = []\n",
    "    \n",
    "    for td in tr.find_all('td'):\n",
    "        \n",
    "        if len(td) > 0:    \n",
    "            row.append(td.text.strip().split('.')[0])\n",
    "        \n",
    "    rows.append(row)\n",
    "    \n",
    "my_table = pd.DataFrame(rows, columns=headers)\n",
    "\n",
    "print(my_table.size)\n",
    "print(my_table.shape)\n",
    "some_row = my_table[1:3]\n",
    "\n",
    "print(some_row, type(some_row))\n",
    "            \n",
    "    "
   ]
  },
  {
   "cell_type": "code",
   "execution_count": 125,
   "metadata": {},
   "outputs": [
    {
     "data": {
      "text/plain": [
       "0                  Andrew Luck, IndA\n",
       "1                    Drew Brees, NOD\n",
       "2                Jameis Winston, TBJ\n",
       "3             Matthew Stafford, DetM\n",
       "4                    Alex Smith, KCA\n",
       "5            DeAngelo Williams, PitD\n",
       "6                    Matt Ryan, AtlM\n",
       "7           Ben Roethlisberger, PitB\n",
       "8                 Brandin Cooks, NOB\n",
       "9                 Aaron Rodgers, GBA\n",
       "10                 Spencer Ware, KCS\n",
       "11                                 C\n",
       "12                 Eli Manning, NYGE\n",
       "13                                 A\n",
       "14               Antonio Brown, PitA\n",
       "15                Carson Wentz, PhiC\n",
       "16                 Willie Snead, NOW\n",
       "17                  Derek Carr, OakD\n",
       "18                Theo Riddick, DetT\n",
       "19               Carson Palmer, AriC\n",
       "20                  Cam Newton, CarC\n",
       "21              Brock Osweiler, HouB\n",
       "22              Marcus Mariota, TenM\n",
       "23                  Carlos Hyde, SFC\n",
       "24            Larry Fitzgerald, AriL\n",
       "25              DeMarco Murray, TenD\n",
       "26               David Johnson, AriD\n",
       "27            Ryan Fitzpatrick, NYJR\n",
       "28                 Andy Dalton, CinA\n",
       "29               Danny Woodhead, SDD\n",
       "                    ...             \n",
       "1270           Ezekiel Elliott, DalE\n",
       "1271             Tevin Coleman, AtlT\n",
       "1272            Nelson Agholor, PhiN\n",
       "1273              Davante Adams, GBD\n",
       "1274          Sterling Shepard, NYGS\n",
       "1275              Dak Prescott, DalD\n",
       "1276            Alshon Jeffery, ChiA\n",
       "1277            DeSean Jackson, WasD\n",
       "1278                Eric Ebron, DetE\n",
       "1279              Stefon Diggs, MinS\n",
       "1280          Michael Crabtree, OakM\n",
       "1281            Chris Thompson, WasC\n",
       "1282               Charles Sims, TBC\n",
       "1283    Austin Seferian-Jenkins, TBA\n",
       "1284               Jordy Nelson, GBJ\n",
       "1285                Doug Martin, TBD\n",
       "1286            Brandon LaFell, CinB\n",
       "1287                Shaun Hill, MinS\n",
       "1288               Jeremy Hill, CinJ\n",
       "1289              Arian Foster, MiaA\n",
       "1290           Phillip Dorsett, IndP\n",
       "1291               Eric Decker, NYJE\n",
       "1292               Victor Cruz, NYGV\n",
       "1293              Kirk Cousins, WasK\n",
       "1294              Marvin Jones, DetM\n",
       "1295             Andy Janovich, DenA\n",
       "1296        Robert Griffin III, CleR\n",
       "1297            Tyrell Williams, SDT\n",
       "1298              Tajae Sharpe, TenT\n",
       "1299            Allen Robinson, JaxA\n",
       "Name: Player, Length: 1300, dtype: object"
      ]
     },
     "execution_count": 125,
     "metadata": {},
     "output_type": "execute_result"
    }
   ],
   "source": [
    "my_table.Player"
   ]
  },
  {
   "cell_type": "code",
   "execution_count": null,
   "metadata": {
    "collapsed": true
   },
   "outputs": [],
   "source": []
  }
 ],
 "metadata": {
  "kernelspec": {
   "display_name": "Python 3",
   "language": "python",
   "name": "python3"
  },
  "language_info": {
   "codemirror_mode": {
    "name": "ipython",
    "version": 3
   },
   "file_extension": ".py",
   "mimetype": "text/x-python",
   "name": "python",
   "nbconvert_exporter": "python",
   "pygments_lexer": "ipython3",
   "version": "3.6.0"
  }
 },
 "nbformat": 4,
 "nbformat_minor": 2
}
